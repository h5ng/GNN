{
  "nbformat": 4,
  "nbformat_minor": 0,
  "metadata": {
    "accelerator": "GPU",
    "colab": {
      "name": "gpt-gnn-pretrain_OAG.ipynb",
      "provenance": [],
      "authorship_tag": "ABX9TyODukY+2AtfflFLbkM9QVTm",
      "include_colab_link": true
    },
    "kernelspec": {
      "display_name": "Python 3",
      "name": "python3"
    }
  },
  "cells": [
    {
      "cell_type": "markdown",
      "metadata": {
        "id": "view-in-github",
        "colab_type": "text"
      },
      "source": [
        "<a href=\"https://colab.research.google.com/github/h5ng/GNN/blob/master/gpt_gnn_pretrain_OAG.ipynb\" target=\"_parent\"><img src=\"https://colab.research.google.com/assets/colab-badge.svg\" alt=\"Open In Colab\"/></a>"
      ]
    },
    {
      "cell_type": "code",
      "metadata": {
        "colab": {
          "base_uri": "https://localhost:8080/"
        },
        "id": "tg2qpGD3zPmC",
        "outputId": "ef47f3f4-2ee0-420d-ac61-d880c4e1cb4b"
      },
      "source": [
        "!pip install torch==1.4 torchvision==0.4.0 -f https://download.pytorch.org/whl/torch_stable.html texttable torch_geometric torch-sparse==latest+cu101 -f https://pytorch-geometric.com/whl/torch-1.4.0.html"
      ],
      "execution_count": 1,
      "outputs": [
        {
          "output_type": "stream",
          "text": [
            "Looking in links: https://download.pytorch.org/whl/torch_stable.html, https://pytorch-geometric.com/whl/torch-1.4.0.html\n",
            "Requirement already satisfied: torch==1.4 in /usr/local/lib/python3.7/dist-packages (1.4.0)\n",
            "Requirement already satisfied: torchvision==0.4.0 in /usr/local/lib/python3.7/dist-packages (0.4.0+cu92)\n",
            "Requirement already satisfied: texttable in /usr/local/lib/python3.7/dist-packages (1.6.3)\n",
            "Requirement already satisfied: torch_geometric in /usr/local/lib/python3.7/dist-packages (1.6.3)\n",
            "Collecting torch-sparse==latest+cu101\n",
            "  Using cached https://pytorch-geometric.com/whl/torch-1.4.0/torch_sparse-latest%2Bcu101-cp37-cp37m-linux_x86_64.whl\n",
            "Requirement already satisfied: pillow>=4.1.1 in /usr/local/lib/python3.7/dist-packages (from torchvision==0.4.0) (7.0.0)\n",
            "Requirement already satisfied: six in /usr/local/lib/python3.7/dist-packages (from torchvision==0.4.0) (1.15.0)\n",
            "Requirement already satisfied: numpy in /usr/local/lib/python3.7/dist-packages (from torchvision==0.4.0) (1.19.5)\n",
            "Requirement already satisfied: python-louvain in /usr/local/lib/python3.7/dist-packages (from torch_geometric) (0.15)\n",
            "Requirement already satisfied: networkx in /usr/local/lib/python3.7/dist-packages (from torch_geometric) (2.5)\n",
            "Requirement already satisfied: pandas in /usr/local/lib/python3.7/dist-packages (from torch_geometric) (1.1.5)\n",
            "Requirement already satisfied: numba in /usr/local/lib/python3.7/dist-packages (from torch_geometric) (0.51.2)\n",
            "Requirement already satisfied: scipy in /usr/local/lib/python3.7/dist-packages (from torch_geometric) (1.4.1)\n",
            "Requirement already satisfied: scikit-learn in /usr/local/lib/python3.7/dist-packages (from torch_geometric) (0.22.2.post1)\n",
            "Requirement already satisfied: tqdm in /usr/local/lib/python3.7/dist-packages (from torch_geometric) (4.41.1)\n",
            "Requirement already satisfied: rdflib in /usr/local/lib/python3.7/dist-packages (from torch_geometric) (5.0.0)\n",
            "Requirement already satisfied: jinja2 in /usr/local/lib/python3.7/dist-packages (from torch_geometric) (2.11.3)\n",
            "Requirement already satisfied: h5py in /usr/local/lib/python3.7/dist-packages (from torch_geometric) (2.10.0)\n",
            "Requirement already satisfied: googledrivedownloader in /usr/local/lib/python3.7/dist-packages (from torch_geometric) (0.4)\n",
            "Requirement already satisfied: requests in /usr/local/lib/python3.7/dist-packages (from torch_geometric) (2.23.0)\n",
            "Requirement already satisfied: ase in /usr/local/lib/python3.7/dist-packages (from torch_geometric) (3.21.1)\n",
            "Requirement already satisfied: decorator>=4.3.0 in /usr/local/lib/python3.7/dist-packages (from networkx->torch_geometric) (4.4.2)\n",
            "Requirement already satisfied: python-dateutil>=2.7.3 in /usr/local/lib/python3.7/dist-packages (from pandas->torch_geometric) (2.8.1)\n",
            "Requirement already satisfied: pytz>=2017.2 in /usr/local/lib/python3.7/dist-packages (from pandas->torch_geometric) (2018.9)\n",
            "Requirement already satisfied: llvmlite<0.35,>=0.34.0.dev0 in /usr/local/lib/python3.7/dist-packages (from numba->torch_geometric) (0.34.0)\n",
            "Requirement already satisfied: setuptools in /usr/local/lib/python3.7/dist-packages (from numba->torch_geometric) (54.0.0)\n",
            "Requirement already satisfied: joblib>=0.11 in /usr/local/lib/python3.7/dist-packages (from scikit-learn->torch_geometric) (1.0.1)\n",
            "Requirement already satisfied: pyparsing in /usr/local/lib/python3.7/dist-packages (from rdflib->torch_geometric) (2.4.7)\n",
            "Requirement already satisfied: isodate in /usr/local/lib/python3.7/dist-packages (from rdflib->torch_geometric) (0.6.0)\n",
            "Requirement already satisfied: MarkupSafe>=0.23 in /usr/local/lib/python3.7/dist-packages (from jinja2->torch_geometric) (1.1.1)\n",
            "Requirement already satisfied: idna<3,>=2.5 in /usr/local/lib/python3.7/dist-packages (from requests->torch_geometric) (2.10)\n",
            "Requirement already satisfied: urllib3!=1.25.0,!=1.25.1,<1.26,>=1.21.1 in /usr/local/lib/python3.7/dist-packages (from requests->torch_geometric) (1.24.3)\n",
            "Requirement already satisfied: certifi>=2017.4.17 in /usr/local/lib/python3.7/dist-packages (from requests->torch_geometric) (2020.12.5)\n",
            "Requirement already satisfied: chardet<4,>=3.0.2 in /usr/local/lib/python3.7/dist-packages (from requests->torch_geometric) (3.0.4)\n",
            "Requirement already satisfied: matplotlib>=2.0.0 in /usr/local/lib/python3.7/dist-packages (from ase->torch_geometric) (3.2.2)\n",
            "Requirement already satisfied: kiwisolver>=1.0.1 in /usr/local/lib/python3.7/dist-packages (from matplotlib>=2.0.0->ase->torch_geometric) (1.3.1)\n",
            "Requirement already satisfied: cycler>=0.10 in /usr/local/lib/python3.7/dist-packages (from matplotlib>=2.0.0->ase->torch_geometric) (0.10.0)\n",
            "Installing collected packages: torch-sparse\n",
            "  Found existing installation: torch-sparse 0.6.1\n",
            "    Uninstalling torch-sparse-0.6.1:\n",
            "      Successfully uninstalled torch-sparse-0.6.1\n",
            "Successfully installed torch-sparse-0.6.1\n"
          ],
          "name": "stdout"
        }
      ]
    },
    {
      "cell_type": "code",
      "metadata": {
        "colab": {
          "base_uri": "https://localhost:8080/"
        },
        "id": "QT1-F7CtymQT",
        "outputId": "100ca5e8-81e9-42b1-8d03-276698d09fa2"
      },
      "source": [
        "import sys\r\n",
        "from google.colab import drive\r\n",
        "\r\n",
        "drive.mount('/content/dirve', force_remount=True)\r\n",
        "gpt_gnn_path = '/content/dirve/MyDrive/GPT-GNN-master/example_OAG/GPT_GNN'\r\n",
        "sys.path.append(gpt_gnn_path)\r\n",
        "\r\n",
        "from data import *\r\n",
        "from model import *\r\n",
        "\r\n",
        "from warnings import filterwarnings\r\n",
        "filterwarnings(\"ignore\")"
      ],
      "execution_count": 7,
      "outputs": [
        {
          "output_type": "stream",
          "text": [
            "Mounted at /content/dirve\n"
          ],
          "name": "stdout"
        }
      ]
    },
    {
      "cell_type": "code",
      "metadata": {
        "colab": {
          "base_uri": "https://localhost:8080/"
        },
        "id": "xzRome1j4SAB",
        "outputId": "6df087a8-1069-49f8-b5a0-5658f5b70829"
      },
      "source": [
        "from argparse import Namespace\r\n",
        "args = {\r\n",
        "    # GPT-GNN arguments\r\n",
        "    'attr_ratio': 0.5,\r\n",
        "    'attr_type': 'text',\r\n",
        "    'neg_samp_num': 255,\r\n",
        "    'queue_size': 256,\r\n",
        "    'w2v_dir': '/datadrive/dataset/w2v_all',\r\n",
        "    # Dataset arguments\r\n",
        "    'data_dir': 'datadrive/dataset/graph_CS.pk',\r\n",
        "    'pretrain_model_dir': '/datadrive/models/test',\r\n",
        "    'cuda': 0,\r\n",
        "    'sample_depth': 6,\r\n",
        "    'sample_width': 128,\r\n",
        "    # Model arguments\r\n",
        "    'conv_name': 'hgt',\r\n",
        "    'n_hid': 400,\r\n",
        "    'n_heads': 8,\r\n",
        "    'n_layers': 3,\r\n",
        "    'dropout': 0.2,\r\n",
        "    # Optimization arguments\r\n",
        "    'max_lr': 1e-3,\r\n",
        "    'scheduler': 'cycle',\r\n",
        "    'n_epoch': 20,\r\n",
        "    'n_pool': 8,\r\n",
        "    'n_batch': 32,\r\n",
        "    'batch_size': 256,\r\n",
        "    'clip': 0.5\r\n",
        "}\r\n",
        "\r\n",
        "args = Namespace(**args)\r\n",
        "print(args)\r\n",
        "print(args.cuda)"
      ],
      "execution_count": 12,
      "outputs": [
        {
          "output_type": "stream",
          "text": [
            "Namespace(attr_ratio=0.5, attr_type='text', batch_size=256, clip=0.5, conv_name='hgt', cuda=0, data_dir='datadrive/dataset/graph_CS.pk', dropout=0.2, max_lr=0.001, n_batch=32, n_epoch=20, n_heads=8, n_hid=400, n_layers=3, n_pool=8, neg_samp_num=255, pretrain_model_dir='/datadrive/models/test', queue_size=256, sample_depth=6, sample_width=128, scheduler='cycle', w2v_dir='/datadrive/dataset/w2v_all')\n",
            "0\n"
          ],
          "name": "stdout"
        }
      ]
    },
    {
      "cell_type": "code",
      "metadata": {
        "id": "u2YkvqUl8h85"
      },
      "source": [
        "if  args.cuda != -1:\r\n",
        "  device = torch.device(\"cuda:\" + str(args.cuda))\r\n",
        "else:\r\n",
        "  device = torch.device(\"cpu\")"
      ],
      "execution_count": 13,
      "outputs": []
    }
  ]
}
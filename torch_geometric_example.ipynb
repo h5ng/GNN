{
  "nbformat": 4,
  "nbformat_minor": 0,
  "metadata": {
    "colab": {
      "name": "torch-geometric-example.ipynb",
      "provenance": [],
      "collapsed_sections": [],
      "authorship_tag": "ABX9TyMdmC563azq5UDbX+EhszKR",
      "include_colab_link": true
    },
    "kernelspec": {
      "name": "python3",
      "display_name": "Python 3"
    },
    "language_info": {
      "name": "python"
    },
    "accelerator": "GPU"
  },
  "cells": [
    {
      "cell_type": "markdown",
      "metadata": {
        "id": "view-in-github",
        "colab_type": "text"
      },
      "source": [
        "<a href=\"https://colab.research.google.com/github/h5ng/GNN/blob/master/torch_geometric_example.ipynb\" target=\"_parent\"><img src=\"https://colab.research.google.com/assets/colab-badge.svg\" alt=\"Open In Colab\"/></a>"
      ]
    },
    {
      "cell_type": "code",
      "metadata": {
        "colab": {
          "base_uri": "https://localhost:8080/"
        },
        "id": "58mJURitSiRb",
        "outputId": "8c2e739f-0919-40f0-fd0e-f471cb425ddd"
      },
      "source": [
        "!pip install torch-scatter torch-sparse torch-cluster torch-spline-conv -f https://pytorch-geometric.com/whl/torch-1.8.0+cu101.html torch-geometric"
      ],
      "execution_count": 25,
      "outputs": [
        {
          "output_type": "stream",
          "text": [
            "Looking in links: https://pytorch-geometric.com/whl/torch-1.8.0+cu101.html\n",
            "Requirement already satisfied: torch-scatter in /usr/local/lib/python3.7/dist-packages (2.0.6)\n",
            "Requirement already satisfied: torch-sparse in /usr/local/lib/python3.7/dist-packages (0.6.9)\n",
            "Requirement already satisfied: torch-cluster in /usr/local/lib/python3.7/dist-packages (1.5.9)\n",
            "Requirement already satisfied: torch-spline-conv in /usr/local/lib/python3.7/dist-packages (1.2.1)\n",
            "Requirement already satisfied: torch-geometric in /usr/local/lib/python3.7/dist-packages (1.6.3)\n",
            "Requirement already satisfied: scipy in /usr/local/lib/python3.7/dist-packages (from torch-sparse) (1.4.1)\n",
            "Requirement already satisfied: pandas in /usr/local/lib/python3.7/dist-packages (from torch-geometric) (1.1.5)\n",
            "Requirement already satisfied: jinja2 in /usr/local/lib/python3.7/dist-packages (from torch-geometric) (2.11.3)\n",
            "Requirement already satisfied: tqdm in /usr/local/lib/python3.7/dist-packages (from torch-geometric) (4.41.1)\n",
            "Requirement already satisfied: torch in /usr/local/lib/python3.7/dist-packages (from torch-geometric) (1.8.0+cu101)\n",
            "Requirement already satisfied: requests in /usr/local/lib/python3.7/dist-packages (from torch-geometric) (2.23.0)\n",
            "Requirement already satisfied: googledrivedownloader in /usr/local/lib/python3.7/dist-packages (from torch-geometric) (0.4)\n",
            "Requirement already satisfied: rdflib in /usr/local/lib/python3.7/dist-packages (from torch-geometric) (5.0.0)\n",
            "Requirement already satisfied: h5py in /usr/local/lib/python3.7/dist-packages (from torch-geometric) (2.10.0)\n",
            "Requirement already satisfied: scikit-learn in /usr/local/lib/python3.7/dist-packages (from torch-geometric) (0.22.2.post1)\n",
            "Requirement already satisfied: numba in /usr/local/lib/python3.7/dist-packages (from torch-geometric) (0.51.2)\n",
            "Requirement already satisfied: numpy in /usr/local/lib/python3.7/dist-packages (from torch-geometric) (1.19.5)\n",
            "Requirement already satisfied: python-louvain in /usr/local/lib/python3.7/dist-packages (from torch-geometric) (0.15)\n",
            "Requirement already satisfied: ase in /usr/local/lib/python3.7/dist-packages (from torch-geometric) (3.21.1)\n",
            "Requirement already satisfied: networkx in /usr/local/lib/python3.7/dist-packages (from torch-geometric) (2.5)\n",
            "Requirement already satisfied: python-dateutil>=2.7.3 in /usr/local/lib/python3.7/dist-packages (from pandas->torch-geometric) (2.8.1)\n",
            "Requirement already satisfied: pytz>=2017.2 in /usr/local/lib/python3.7/dist-packages (from pandas->torch-geometric) (2018.9)\n",
            "Requirement already satisfied: MarkupSafe>=0.23 in /usr/local/lib/python3.7/dist-packages (from jinja2->torch-geometric) (1.1.1)\n",
            "Requirement already satisfied: typing-extensions in /usr/local/lib/python3.7/dist-packages (from torch->torch-geometric) (3.7.4.3)\n",
            "Requirement already satisfied: chardet<4,>=3.0.2 in /usr/local/lib/python3.7/dist-packages (from requests->torch-geometric) (3.0.4)\n",
            "Requirement already satisfied: idna<3,>=2.5 in /usr/local/lib/python3.7/dist-packages (from requests->torch-geometric) (2.10)\n",
            "Requirement already satisfied: certifi>=2017.4.17 in /usr/local/lib/python3.7/dist-packages (from requests->torch-geometric) (2020.12.5)\n",
            "Requirement already satisfied: urllib3!=1.25.0,!=1.25.1,<1.26,>=1.21.1 in /usr/local/lib/python3.7/dist-packages (from requests->torch-geometric) (1.24.3)\n",
            "Requirement already satisfied: isodate in /usr/local/lib/python3.7/dist-packages (from rdflib->torch-geometric) (0.6.0)\n",
            "Requirement already satisfied: six in /usr/local/lib/python3.7/dist-packages (from rdflib->torch-geometric) (1.15.0)\n",
            "Requirement already satisfied: pyparsing in /usr/local/lib/python3.7/dist-packages (from rdflib->torch-geometric) (2.4.7)\n",
            "Requirement already satisfied: joblib>=0.11 in /usr/local/lib/python3.7/dist-packages (from scikit-learn->torch-geometric) (1.0.1)\n",
            "Requirement already satisfied: setuptools in /usr/local/lib/python3.7/dist-packages (from numba->torch-geometric) (54.1.2)\n",
            "Requirement already satisfied: llvmlite<0.35,>=0.34.0.dev0 in /usr/local/lib/python3.7/dist-packages (from numba->torch-geometric) (0.34.0)\n",
            "Requirement already satisfied: matplotlib>=2.0.0 in /usr/local/lib/python3.7/dist-packages (from ase->torch-geometric) (3.2.2)\n",
            "Requirement already satisfied: decorator>=4.3.0 in /usr/local/lib/python3.7/dist-packages (from networkx->torch-geometric) (4.4.2)\n",
            "Requirement already satisfied: cycler>=0.10 in /usr/local/lib/python3.7/dist-packages (from matplotlib>=2.0.0->ase->torch-geometric) (0.10.0)\n",
            "Requirement already satisfied: kiwisolver>=1.0.1 in /usr/local/lib/python3.7/dist-packages (from matplotlib>=2.0.0->ase->torch-geometric) (1.3.1)\n"
          ],
          "name": "stdout"
        }
      ]
    },
    {
      "cell_type": "code",
      "metadata": {
        "id": "3vjUmh-SSVlL"
      },
      "source": [
        "import torch\n",
        "from torch_geometric.data import Data"
      ],
      "execution_count": 26,
      "outputs": []
    },
    {
      "cell_type": "code",
      "metadata": {
        "colab": {
          "base_uri": "https://localhost:8080/"
        },
        "id": "YQYgKf8QSd_e",
        "outputId": "4681a102-178c-4a5a-d71e-0eeb16772387"
      },
      "source": [
        "edge_index = torch.tensor([[0, 1],\n",
        "                           [1, 0],\n",
        "                           [1, 2],\n",
        "                           [2, 1]], dtype=torch.long)\n",
        "x = torch.tensor([[-1], [0], [1]], dtype=torch.float)\n",
        "\n",
        "data = Data(x=x, edge_index=edge_index.t().contiguous())\n",
        "print(data)\n",
        "print(data.keys)\n",
        "print(data.num_nodes)\n",
        "print(data.num_edges)\n",
        "print(data.contains_isolated_nodes())\n",
        "print(data.contains_self_loops())\n",
        "print(data.is_directed())\n",
        "print(edge_index.t().contiguous())"
      ],
      "execution_count": 31,
      "outputs": [
        {
          "output_type": "stream",
          "text": [
            "Data(edge_index=[2, 4], x=[3, 1])\n",
            "['x', 'edge_index']\n",
            "3\n",
            "4\n",
            "False\n",
            "False\n",
            "False\n",
            "tensor([[0, 1, 1, 2],\n",
            "        [1, 0, 2, 1]])\n"
          ],
          "name": "stdout"
        }
      ]
    },
    {
      "cell_type": "code",
      "metadata": {
        "colab": {
          "base_uri": "https://localhost:8080/"
        },
        "id": "TE-QTQYpZKXu",
        "outputId": "de3221a8-4aea-4c59-a033-368465c7089d"
      },
      "source": [
        "from torch_geometric.datasets import TUDataset\n",
        "\n",
        "dataset = TUDataset(root='./ENZYMES', name='ENZYMES')\n",
        "print(dataset)\n",
        "\n",
        "print(len(dataset))\n",
        "\n",
        "print(dataset.num_classes) # node 클래스 수\n",
        "\n",
        "print(dataset.num_node_features) # node 특징 수\n",
        "\n",
        "print(dataset[0])\n",
        "# Data(edge_index=[2, 168], x=[37, 3], y=[1])\n",
        "# 첫번째 그래프에는 3개의 feature를 가진 37개의 노드가 존재 => x=[37, 3]\n",
        "# 엣지는 총 168 / 2 = 84개의 undirected edge가 있음.\n",
        "# data object는 정확히 graph-level"
      ],
      "execution_count": 28,
      "outputs": [
        {
          "output_type": "stream",
          "text": [
            "ENZYMES(600)\n",
            "600\n",
            "6\n",
            "3\n",
            "Data(edge_index=[2, 168], x=[37, 3], y=[1])\n"
          ],
          "name": "stdout"
        }
      ]
    },
    {
      "cell_type": "code",
      "metadata": {
        "colab": {
          "base_uri": "https://localhost:8080/"
        },
        "id": "5Z3kFxzukTiA",
        "outputId": "e5dbc96d-3c83-461e-da14-1e2b62605f34"
      },
      "source": [
        "dataset = dataset.shuffle()\n",
        "# perm = torch.randperm(len(dataset))\n",
        "# dataset = dataset[perm]\n",
        "\n",
        "\n",
        "train_dataset = dataset[:540]\n",
        "print(train_dataset)\n",
        "test_dataset = dataset[540:]\n",
        "print(test_dataset)"
      ],
      "execution_count": 35,
      "outputs": [
        {
          "output_type": "stream",
          "text": [
            "ENZYMES(540)\n",
            "ENZYMES(60)\n"
          ],
          "name": "stdout"
        }
      ]
    },
    {
      "cell_type": "code",
      "metadata": {
        "colab": {
          "base_uri": "https://localhost:8080/"
        },
        "id": "ajhLgFK0kwSd",
        "outputId": "b91ac307-7921-425a-8633-71294c698df9"
      },
      "source": [
        "from torch_geometric.datasets import Planetoid\n",
        "\n",
        "dataset = Planetoid(root='./Cora', name='CORA')\n",
        "print(dataset)\n",
        "\n",
        "print(len(dataset))\n",
        "\n",
        "print(dataset.num_classes)\n",
        "\n",
        "print(dataset.num_node_features)"
      ],
      "execution_count": 53,
      "outputs": [
        {
          "output_type": "stream",
          "text": [
            "CORA()\n",
            "1\n",
            "7\n",
            "1433\n"
          ],
          "name": "stdout"
        }
      ]
    },
    {
      "cell_type": "code",
      "metadata": {
        "colab": {
          "base_uri": "https://localhost:8080/"
        },
        "id": "7UaOvCTVntWK",
        "outputId": "96ab7700-be95-4fe9-858c-a353f3e023df"
      },
      "source": [
        "from torch_geometric.datasets import TUDataset\n",
        "from torch_geometric.data import DataLoader\n",
        "\n",
        "dataset = TUDataset(root='./ENZYMES', name='ENZYMES')\n",
        "loader = DataLoader(dataset, batch_size=32, shuffle=True)\n",
        "\n",
        "for batch in loader:\n",
        "  print(batch)\n",
        "  print(batch.num_graphs)"
      ],
      "execution_count": 54,
      "outputs": [
        {
          "output_type": "stream",
          "text": [
            "Batch(batch=[1170], edge_index=[2, 4222], x=[1170, 3], y=[32])\n",
            "32\n",
            "Batch(batch=[964], edge_index=[2, 3764], x=[964, 3], y=[32])\n",
            "32\n",
            "Batch(batch=[955], edge_index=[2, 3836], x=[955, 3], y=[32])\n",
            "32\n",
            "Batch(batch=[1073], edge_index=[2, 4252], x=[1073, 3], y=[32])\n",
            "32\n",
            "Batch(batch=[1111], edge_index=[2, 4252], x=[1111, 3], y=[32])\n",
            "32\n",
            "Batch(batch=[1158], edge_index=[2, 4224], x=[1158, 3], y=[32])\n",
            "32\n",
            "Batch(batch=[1044], edge_index=[2, 4136], x=[1044, 3], y=[32])\n",
            "32\n",
            "Batch(batch=[957], edge_index=[2, 3632], x=[957, 3], y=[32])\n",
            "32\n",
            "Batch(batch=[911], edge_index=[2, 3574], x=[911, 3], y=[32])\n",
            "32\n",
            "Batch(batch=[889], edge_index=[2, 3282], x=[889, 3], y=[32])\n",
            "32\n",
            "Batch(batch=[1268], edge_index=[2, 4668], x=[1268, 3], y=[32])\n",
            "32\n",
            "Batch(batch=[1032], edge_index=[2, 3836], x=[1032, 3], y=[32])\n",
            "32\n",
            "Batch(batch=[981], edge_index=[2, 3860], x=[981, 3], y=[32])\n",
            "32\n",
            "Batch(batch=[1078], edge_index=[2, 3876], x=[1078, 3], y=[32])\n",
            "32\n",
            "Batch(batch=[1036], edge_index=[2, 4060], x=[1036, 3], y=[32])\n",
            "32\n",
            "Batch(batch=[1119], edge_index=[2, 4208], x=[1119, 3], y=[32])\n",
            "32\n",
            "Batch(batch=[1007], edge_index=[2, 3962], x=[1007, 3], y=[32])\n",
            "32\n",
            "Batch(batch=[1108], edge_index=[2, 4092], x=[1108, 3], y=[32])\n",
            "32\n",
            "Batch(batch=[719], edge_index=[2, 2828], x=[719, 3], y=[24])\n",
            "24\n"
          ],
          "name": "stdout"
        }
      ]
    },
    {
      "cell_type": "code",
      "metadata": {
        "colab": {
          "base_uri": "https://localhost:8080/"
        },
        "id": "pjUb3VhhqbVe",
        "outputId": "1214e7c0-0a44-4941-aa92-5355518a8bb0"
      },
      "source": [
        "from torch_geometric.datasets import Planetoid\n",
        "\n",
        "dataset = Planetoid(root='./Cora', name='Cora')\n",
        "dataset"
      ],
      "execution_count": 57,
      "outputs": [
        {
          "output_type": "execute_result",
          "data": {
            "text/plain": [
              "Cora()"
            ]
          },
          "metadata": {
            "tags": []
          },
          "execution_count": 57
        }
      ]
    },
    {
      "cell_type": "code",
      "metadata": {
        "id": "dMDxGtI9rD4f"
      },
      "source": [
        "  import torch\n",
        "  import torch.nn.functional as F\n",
        "  from torch_geometric.nn import GCNConv\n",
        "\n",
        "  class Net(torch.nn.Module):\n",
        "    def __init__(self):\n",
        "      super(Net, self).__init__()\n",
        "      self.conv1 = GCNConv(dataset.num_node_features, 16)\n",
        "      self.conv2 = GCNConv(16, dataset.num_classes)\n",
        "\n",
        "    def forward(self, data):\n",
        "      x, edge_index = data.x, data.edge_index\n",
        "\n",
        "      x = self.conv1(x, edge_index)\n",
        "      x = F.relu(x)\n",
        "      x = F.dropout(x, training=self.training)\n",
        "      x = self.conv2(x, edge_index)\n",
        "\n",
        "      return F.log_softmax(x, dim=1)\n",
        "      "
      ],
      "execution_count": 58,
      "outputs": []
    },
    {
      "cell_type": "code",
      "metadata": {
        "id": "_ynzfeu2sRb4"
      },
      "source": [
        "device = torch.device('cuda' if torch.cuda.is_available() else 'cpu')\n",
        "model = Net().to(device)\n",
        "data = dataset[0].to(device)\n",
        "optimizer = torch.optim.Adam(model.parameters(), lr=0.01, weight_decay=5e-4)\n",
        "\n",
        "model.train()\n",
        "for epoch in range(200):\n",
        "  optimizer.zero_grad()\n",
        "  out = model(data)\n",
        "  loss = F.nll_loss(out[data.train_mask], data.y[data.train_mask])\n",
        "  loss.backward()\n",
        "  optimizer.step() "
      ],
      "execution_count": 60,
      "outputs": []
    },
    {
      "cell_type": "code",
      "metadata": {
        "colab": {
          "base_uri": "https://localhost:8080/"
        },
        "id": "JQf-ginbsYx0",
        "outputId": "b2ea7ade-f38a-4a86-be28-e45d789df79e"
      },
      "source": [
        "model.eval()\n",
        "_, pred = model(data).max(dim=1)\n",
        "correct = float(pred[data.test_mask].eq(data.y[data.test_mask]).sum().item())\n",
        "acc = correct / data.test_mask.sum().item()\n",
        "print('Accuracy: {:.4f}'.format(acc))"
      ],
      "execution_count": 63,
      "outputs": [
        {
          "output_type": "stream",
          "text": [
            "Accuracy: 0.7980\n"
          ],
          "name": "stdout"
        }
      ]
    }
  ]
}
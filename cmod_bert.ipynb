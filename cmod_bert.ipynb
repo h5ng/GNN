{
  "nbformat": 4,
  "nbformat_minor": 0,
  "metadata": {
    "colab": {
      "name": "cmod_bert.ipynb",
      "provenance": [],
      "collapsed_sections": [],
      "mount_file_id": "1MDa7JgotH9VN9wGRr2i-FdXLyjp6h_Qd",
      "authorship_tag": "ABX9TyNi2Y5WCfgfDnoeE2JeqqJm",
      "include_colab_link": true
    },
    "kernelspec": {
      "name": "python3",
      "display_name": "Python 3"
    }
  },
  "cells": [
    {
      "cell_type": "markdown",
      "metadata": {
        "id": "view-in-github",
        "colab_type": "text"
      },
      "source": [
        "<a href=\"https://colab.research.google.com/github/h5ng/GNN/blob/master/cmod_bert.ipynb\" target=\"_parent\"><img src=\"https://colab.research.google.com/assets/colab-badge.svg\" alt=\"Open In Colab\"/></a>"
      ]
    },
    {
      "cell_type": "code",
      "metadata": {
        "colab": {
          "base_uri": "https://localhost:8080/"
        },
        "id": "GQeR-cToddu0",
        "outputId": "5cf6c7e5-c9be-4231-dfb1-fecd9d49cdf6"
      },
      "source": [
        "!pip install fairseq==0.9 transformers==2.9"
      ],
      "execution_count": 1,
      "outputs": [
        {
          "output_type": "stream",
          "text": [
            "Requirement already satisfied: fairseq==0.9 in /usr/local/lib/python3.7/dist-packages (0.9.0)\n",
            "Requirement already satisfied: transformers==2.9 in /usr/local/lib/python3.7/dist-packages (2.9.0)\n",
            "Requirement already satisfied: numpy in /usr/local/lib/python3.7/dist-packages (from fairseq==0.9) (1.19.5)\n",
            "Requirement already satisfied: tqdm in /usr/local/lib/python3.7/dist-packages (from fairseq==0.9) (4.41.1)\n",
            "Requirement already satisfied: sacrebleu in /usr/local/lib/python3.7/dist-packages (from fairseq==0.9) (1.5.1)\n",
            "Requirement already satisfied: torch in /usr/local/lib/python3.7/dist-packages (from fairseq==0.9) (1.8.0+cu101)\n",
            "Requirement already satisfied: cython in /usr/local/lib/python3.7/dist-packages (from fairseq==0.9) (0.29.22)\n",
            "Requirement already satisfied: regex in /usr/local/lib/python3.7/dist-packages (from fairseq==0.9) (2019.12.20)\n",
            "Requirement already satisfied: cffi in /usr/local/lib/python3.7/dist-packages (from fairseq==0.9) (1.14.5)\n",
            "Requirement already satisfied: filelock in /usr/local/lib/python3.7/dist-packages (from transformers==2.9) (3.0.12)\n",
            "Requirement already satisfied: tokenizers==0.7.0 in /usr/local/lib/python3.7/dist-packages (from transformers==2.9) (0.7.0)\n",
            "Requirement already satisfied: requests in /usr/local/lib/python3.7/dist-packages (from transformers==2.9) (2.23.0)\n",
            "Requirement already satisfied: sacremoses in /usr/local/lib/python3.7/dist-packages (from transformers==2.9) (0.0.43)\n",
            "Requirement already satisfied: sentencepiece in /usr/local/lib/python3.7/dist-packages (from transformers==2.9) (0.1.95)\n",
            "Requirement already satisfied: portalocker==2.0.0 in /usr/local/lib/python3.7/dist-packages (from sacrebleu->fairseq==0.9) (2.0.0)\n",
            "Requirement already satisfied: typing-extensions in /usr/local/lib/python3.7/dist-packages (from torch->fairseq==0.9) (3.7.4.3)\n",
            "Requirement already satisfied: pycparser in /usr/local/lib/python3.7/dist-packages (from cffi->fairseq==0.9) (2.20)\n",
            "Requirement already satisfied: certifi>=2017.4.17 in /usr/local/lib/python3.7/dist-packages (from requests->transformers==2.9) (2020.12.5)\n",
            "Requirement already satisfied: idna<3,>=2.5 in /usr/local/lib/python3.7/dist-packages (from requests->transformers==2.9) (2.10)\n",
            "Requirement already satisfied: urllib3!=1.25.0,!=1.25.1,<1.26,>=1.21.1 in /usr/local/lib/python3.7/dist-packages (from requests->transformers==2.9) (1.24.3)\n",
            "Requirement already satisfied: chardet<4,>=3.0.2 in /usr/local/lib/python3.7/dist-packages (from requests->transformers==2.9) (3.0.4)\n",
            "Requirement already satisfied: joblib in /usr/local/lib/python3.7/dist-packages (from sacremoses->transformers==2.9) (1.0.1)\n",
            "Requirement already satisfied: click in /usr/local/lib/python3.7/dist-packages (from sacremoses->transformers==2.9) (7.1.2)\n",
            "Requirement already satisfied: six in /usr/local/lib/python3.7/dist-packages (from sacremoses->transformers==2.9) (1.15.0)\n"
          ],
          "name": "stdout"
        }
      ]
    },
    {
      "cell_type": "code",
      "metadata": {
        "colab": {
          "base_uri": "https://localhost:8080/"
        },
        "id": "74Zqw-HtfAbO",
        "outputId": "aa38baf7-15f9-4d37-8d68-e87bd42dfb0d"
      },
      "source": [
        "import csv\r\n",
        "import os\r\n",
        "import logging\r\n",
        "import argparse\r\n",
        "import random\r\n",
        "from tqdm import tqdm, trange\r\n",
        "import json\r\n",
        "\r\n",
        "import numpy as np\r\n",
        "import torch\r\n",
        "import torch.nn.functional as F\r\n",
        "from torch.utils.data import TensorDataset, DataLoader, RandomSampler, SequentialSampler\r\n",
        "\r\n",
        "from transformers.tokenization_bert import BertTokenizer\r\n",
        "from transformers.modeling_bert import BertForMaskedLM, BertOnlyMLMHead\r\n",
        "\r\n",
        "from transformers import AdamW\r\n",
        "\r\n",
        "from google.colab import drive\r\n",
        "drive.mount('/content/drive')\r\n",
        "\r\n",
        "import sys\r\n",
        "sys.path.append('/content/drive/MyDrive/transformers-data-augmentation/bert_aug')\r\n",
        "from data_processors import get_task_processor"
      ],
      "execution_count": 2,
      "outputs": [
        {
          "output_type": "stream",
          "text": [
            "Drive already mounted at /content/drive; to attempt to forcibly remount, call drive.mount(\"/content/drive\", force_remount=True).\n"
          ],
          "name": "stdout"
        }
      ]
    },
    {
      "cell_type": "code",
      "metadata": {
        "id": "yJl0Av8TiXW7"
      },
      "source": [
        "device = torch.device(\"cuda\" if torch.cuda.is_available() else \"cpu\")\r\n",
        "BERT_MODEL = 'bert-base-uncased'\r\n",
        "\r\n",
        "logging.basicConfig(format='%(asctime)s - %(levelname)s - %(name)s -   %(message)s',\r\n",
        "                    datefmt='%m/%d/%Y %H:%M:%S',\r\n",
        "                    level=logging.INFO)\r\n",
        "\r\n",
        "logger = logging.getLogger(__name__)"
      ],
      "execution_count": 26,
      "outputs": []
    },
    {
      "cell_type": "code",
      "metadata": {
        "id": "Y0hY52OckZMx"
      },
      "source": [
        "from argparse import Namespace\r\n",
        "parser = argparse.ArgumentParser()\r\n",
        "args = {\r\n",
        "    'data_dir': '/content/drive/MyDrive/transformers-data-augmentation/datasets/TREC',\r\n",
        "    'output_dir': 'aug_data',\r\n",
        "    'task_name': 'trec',\r\n",
        "    'max_seq_length': 64,\r\n",
        "    'cache': 'transformers_cache',\r\n",
        "    'train_batch_size': 8,\r\n",
        "    'learning_rate': 4e-5,\r\n",
        "    'num_train_epochs': 10.0,\r\n",
        "    'warmup_proportion': 0.1,\r\n",
        "    'seed': 42,\r\n",
        "    'sample_num': 1,\r\n",
        "    'sample_ratio': 7,\r\n",
        "    'gpu': 0,\r\n",
        "    'temp': 1.0\r\n",
        "}\r\n",
        "args = Namespace(**args)"
      ],
      "execution_count": 4,
      "outputs": []
    },
    {
      "cell_type": "code",
      "metadata": {
        "id": "ma0whXP2vePW"
      },
      "source": [
        "def train_cmodbert_and_augment(args):\r\n",
        "  print(args)\r\n",
        "  task_name = args.task_name\r\n",
        "  os.makedirs(args.output_dir, exist_ok=True)\r\n",
        "\r\n",
        "  random.seed(args.seed)\r\n",
        "  np.random.seed(args.seed)\r\n",
        "  torch.manual_seed(args.seed)\r\n",
        "\r\n",
        "  processor = get_task_processor(task_name, args.data_dir)\r\n",
        "  label_list = processor.get_labels(task_name)\r\n",
        "\r\n",
        "  # load train and dev data\r\n",
        "  train_examples = processor.get_train_examples()\r\n",
        "  dev_examples = processor.get_dev_examples()\r\n",
        "\r\n",
        "  tokenizer = BertTokenizer.from_pretrained(BERT_MODEL, do_lower_case=True, cache_dir=args.cache)\r\n"
      ],
      "execution_count": 24,
      "outputs": []
    },
    {
      "cell_type": "code",
      "metadata": {
        "colab": {
          "base_uri": "https://localhost:8080/",
          "height": 305
        },
        "id": "nKT7od6GvlfJ",
        "outputId": "518ce0f7-fdfa-47c0-d0e9-20beeb8c4187"
      },
      "source": [
        "train_cmodbert_and_augment(args)"
      ],
      "execution_count": 25,
      "outputs": [
        {
          "output_type": "stream",
          "text": [
            "Namespace(cache='transformers_cache', data_dir='/content/drive/MyDrive/transformers-data-augmentation/datasets/TREC', gpu=0, learning_rate=4e-05, max_seq_length=64, num_train_epochs=10.0, output_dir='aug_data', sample_num=1, sample_ratio=7, seed=42, task_name='trec', temp=1.0, train_batch_size=8, warmup_proportion=0.1)\n",
            "/content/drive/MyDrive/transformers-data-augmentation/datasets/TREC\n"
          ],
          "name": "stdout"
        },
        {
          "output_type": "error",
          "ename": "NameError",
          "evalue": "ignored",
          "traceback": [
            "\u001b[0;31m---------------------------------------------------------------------------\u001b[0m",
            "\u001b[0;31mNameError\u001b[0m                                 Traceback (most recent call last)",
            "\u001b[0;32m<ipython-input-25-2ada894ed8c8>\u001b[0m in \u001b[0;36m<module>\u001b[0;34m()\u001b[0m\n\u001b[0;32m----> 1\u001b[0;31m \u001b[0mtrain_cmodbert_and_augment\u001b[0m\u001b[0;34m(\u001b[0m\u001b[0margs\u001b[0m\u001b[0;34m)\u001b[0m\u001b[0;34m\u001b[0m\u001b[0;34m\u001b[0m\u001b[0m\n\u001b[0m",
            "\u001b[0;32m<ipython-input-24-69e2b6dabb8f>\u001b[0m in \u001b[0;36mtrain_cmodbert_and_augment\u001b[0;34m(args)\u001b[0m\n\u001b[1;32m     15\u001b[0m   \u001b[0mdev_examples\u001b[0m \u001b[0;34m=\u001b[0m \u001b[0mprocessor\u001b[0m\u001b[0;34m.\u001b[0m\u001b[0mget_dev_examples\u001b[0m\u001b[0;34m(\u001b[0m\u001b[0;34m)\u001b[0m\u001b[0;34m\u001b[0m\u001b[0;34m\u001b[0m\u001b[0m\n\u001b[1;32m     16\u001b[0m \u001b[0;34m\u001b[0m\u001b[0m\n\u001b[0;32m---> 17\u001b[0;31m   \u001b[0mtokenizer\u001b[0m \u001b[0;34m=\u001b[0m \u001b[0mBertTokenizer\u001b[0m\u001b[0;34m.\u001b[0m\u001b[0mfrom_pretrained\u001b[0m\u001b[0;34m(\u001b[0m\u001b[0mBERT_MODEL\u001b[0m\u001b[0;34m,\u001b[0m \u001b[0mdo_lower_case\u001b[0m\u001b[0;34m=\u001b[0m\u001b[0;32mTrue\u001b[0m\u001b[0;34m,\u001b[0m \u001b[0mcache_dir\u001b[0m\u001b[0;34m=\u001b[0m\u001b[0margs\u001b[0m\u001b[0;34m.\u001b[0m\u001b[0mcache\u001b[0m\u001b[0;34m)\u001b[0m\u001b[0;34m\u001b[0m\u001b[0;34m\u001b[0m\u001b[0m\n\u001b[0m",
            "\u001b[0;31mNameError\u001b[0m: name 'BERT_MODEL' is not defined"
          ]
        }
      ]
    }
  ]
}